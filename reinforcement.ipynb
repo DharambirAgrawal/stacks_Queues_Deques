{
 "cells": [
  {
   "cell_type": "markdown",
   "metadata": {},
   "source": [
    "What values are returned during the following series of stack operations, if\n",
    "executed upon an initially empty stack? push(5), push(3), pop(), push(2),\n",
    "push(8), pop(), pop(), push(9), push(1), pop(), push(7), push(6), pop(),\n",
    "pop(), push(4), pop(), pop()."
   ]
  },
  {
   "cell_type": "markdown",
   "metadata": {},
   "source": [
    "Suppose an initially empty stack S has executed a total of 25 push opera\u0002tions, 12 top operations, and 10 pop operations, 3 of which raised Empty\n",
    "errors that were caught and ignored. What is the current size of S?"
   ]
  },
  {
   "cell_type": "markdown",
   "metadata": {},
   "source": [
    "Implement a function with signature transfer(S, T) that transfers all ele\u0002ments from stack S onto stack T, so that the element that starts at the top\n",
    "of S is the first to be inserted onto T, and the element at the bottom of S\n",
    "ends up at the top of T."
   ]
  },
  {
   "cell_type": "markdown",
   "metadata": {},
   "source": [
    "Give a recursive method for removing all the elements from a stack."
   ]
  },
  {
   "cell_type": "markdown",
   "metadata": {},
   "source": [
    "Implement a function that reverses a list of elements by pushing them onto\n",
    "a stack in one order, and writing them back to the list in reversed order."
   ]
  },
  {
   "cell_type": "markdown",
   "metadata": {},
   "source": [
    "Give a precise and complete definition of the concept of matching for\n",
    "grouping symbols in an arithmetic expression. Your definition may be\n",
    "recursive."
   ]
  },
  {
   "cell_type": "markdown",
   "metadata": {},
   "source": [
    "What values are returned during the following sequence of queue opera\u0002tions, if executed on an initially empty queue? enqueue(5), enqueue(3),\n",
    "dequeue(), enqueue(2), enqueue(8), dequeue(), dequeue(), enqueue(9),\n",
    "enqueue(1), dequeue(), enqueue(7), enqueue(6), dequeue(), dequeue(),\n",
    "enqueue(4), dequeue(), dequeue()."
   ]
  },
  {
   "cell_type": "markdown",
   "metadata": {},
   "source": [
    "Suppose an initially empty queue Q has executed a total of 32 enqueue\n",
    "operations, 10 first operations, and 15 dequeue operations, 5 of which\n",
    "raised Empty errors that were caught and ignored. What is the current\n",
    "size of Q?"
   ]
  },
  {
   "cell_type": "markdown",
   "metadata": {},
   "source": [
    "Had the queue of the previous problem been an instance of ArrayQueue\n",
    "that used an initial array of capacity 30, and had its size never been greater\n",
    "than 30, what would be the final value of the front instance variable?"
   ]
  },
  {
   "cell_type": "markdown",
   "metadata": {},
   "source": [
    "Consider what happens if the loop in the ArrayQueue. resize method at\n",
    "lines 53–55 of Code Fragment 6.7 had been implemented as:\n",
    "for k in range(self. size):\n",
    "    self. data[k] = old[k] # rather than old[walk]\n",
    "Give a clear explanation of what could go wrong."
   ]
  },
  {
   "cell_type": "markdown",
   "metadata": {},
   "source": [
    "Give a simple adapter that implements our queue ADT while using a\n",
    "collections.deque instance for storage."
   ]
  },
  {
   "cell_type": "markdown",
   "metadata": {},
   "source": [
    "What values are returned during the following sequence of deque ADT op\u0002erations, on initially empty deque? add first(4), add last(8), add last(9),\n",
    "add first(5), back( ), delete first( ), delete last( ), add last(7), first( ),\n",
    "last( ), add last(6), delete first( ), delete first( )."
   ]
  },
  {
   "cell_type": "markdown",
   "metadata": {},
   "source": [
    "Suppose you have a deque D containing the numbers (1,2,3,4,5,6,7,8),\n",
    "in this order. Suppose further that you have an initially empty queue Q.\n",
    "Give a code fragment that uses only D and Q (and no other variables) and\n",
    "results in D storing the elements in the order (1,2,3,5,4,6,7,8)."
   ]
  },
  {
   "cell_type": "markdown",
   "metadata": {},
   "source": [
    " Repeat the previous problem using the deque D and an initially empty\n",
    "stack S."
   ]
  }
 ],
 "metadata": {
  "language_info": {
   "name": "python"
  }
 },
 "nbformat": 4,
 "nbformat_minor": 2
}
