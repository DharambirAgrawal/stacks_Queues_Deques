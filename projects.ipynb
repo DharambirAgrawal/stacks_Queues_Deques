{
 "cells": [
  {
   "cell_type": "markdown",
   "metadata": {},
   "source": [
    "Give a complete ArrayDeque implementation of the double-ended queue\n",
    "ADT as sketched in Section 6.3.2."
   ]
  },
  {
   "cell_type": "markdown",
   "metadata": {},
   "source": [
    " Give an array-based implementation of a double-ended queue supporting\n",
    "all of the public behaviors shown in Table 6.4 for the collections.deque\n",
    "class, including use of the maxlen optional parameter. When a length limited deque is full, provide semantics similar to the collections.deque\n",
    "class, whereby a call to insert an element on one end of a deque causes an\n",
    "element to be lost from the opposite side."
   ]
  },
  {
   "cell_type": "code",
   "execution_count": 1,
   "metadata": {},
   "outputs": [
    {
     "name": "stdout",
     "output_type": "stream",
     "text": [
      "[1, 2, 3]\n",
      "[2, 3, 4]\n",
      "[0, 2, 3]\n"
     ]
    }
   ],
   "source": [
    "class ArrayDeque:\n",
    "    def __init__(self, maxlen=None):\n",
    "        self.maxlen = maxlen\n",
    "        self.deque = []\n",
    "    \n",
    "    def __len__(self):\n",
    "        return len(self.deque)\n",
    "    \n",
    "    def is_empty(self):\n",
    "        return len(self.deque) == 0\n",
    "    \n",
    "    def append(self, item):\n",
    "        \"\"\"Add an item to the right end.\"\"\"\n",
    "        if self.maxlen is not None and len(self.deque) == self.maxlen:\n",
    "            self.pop_left()  # Remove from left if deque is full\n",
    "        self.deque.append(item)\n",
    "    \n",
    "    def appendleft(self, item):\n",
    "        \"\"\"Add an item to the left end.\"\"\"\n",
    "        if self.maxlen is not None and len(self.deque) == self.maxlen:\n",
    "            self.pop_right()  # Remove from right if deque is full\n",
    "        self.deque.insert(0, item)\n",
    "    \n",
    "    def pop(self):\n",
    "        \"\"\"Remove and return the item from the right end.\"\"\"\n",
    "        if self.is_empty():\n",
    "            raise IndexError(\"pop from an empty deque\")\n",
    "        return self.deque.pop()\n",
    "    \n",
    "    def popleft(self):\n",
    "        \"\"\"Remove and return the item from the left end.\"\"\"\n",
    "        if self.is_empty():\n",
    "            raise IndexError(\"pop from an empty deque\")\n",
    "        return self.deque.pop(0)\n",
    "    \n",
    "    def peek(self):\n",
    "        \"\"\"Return the item from the right end without removing it.\"\"\"\n",
    "        if self.is_empty():\n",
    "            raise IndexError(\"peek from an empty deque\")\n",
    "        return self.deque[-1]\n",
    "    \n",
    "    def peekleft(self):\n",
    "        \"\"\"Return the item from the left end without removing it.\"\"\"\n",
    "        if self.is_empty():\n",
    "            raise IndexError(\"peek from an empty deque\")\n",
    "        return self.deque[0]\n",
    "    \n",
    "    def pop_right(self):\n",
    "        \"\"\"Remove an item from the right end.\"\"\"\n",
    "        if self.is_empty():\n",
    "            raise IndexError(\"pop from an empty deque\")\n",
    "        return self.deque.pop()\n",
    "    \n",
    "    def pop_left(self):\n",
    "        \"\"\"Remove an item from the left end.\"\"\"\n",
    "        if self.is_empty():\n",
    "            raise IndexError(\"pop from an empty deque\")\n",
    "        return self.deque.pop(0)\n",
    "\n",
    "# Example usage\n",
    "dq = ArrayDeque(maxlen=3)\n",
    "dq.append(1)\n",
    "dq.append(2)\n",
    "dq.append(3)\n",
    "print(dq.deque)  # Output: [1, 2, 3]\n",
    "\n",
    "dq.append(4)  # This should remove the leftmost item (1)\n",
    "print(dq.deque)  # Output: [2, 3, 4]\n",
    "\n",
    "dq.appendleft(0)  # This should remove the rightmost item (4)\n",
    "print(dq.deque)  # Output: [0, 2, 3]\n"
   ]
  },
  {
   "cell_type": "markdown",
   "metadata": {},
   "source": [
    " Implement a program that can input an expression in postfix notation (see\n",
    "Exercise C-6.22) and output its value."
   ]
  },
  {
   "cell_type": "markdown",
   "metadata": {},
   "source": [
    "The introduction of Section 6.1 notes that stacks are often used to provide\n",
    "“undo” support in applications like a Web browser or text editor. While\n",
    "support for undo can be implemented with an unbounded stack, many\n",
    "applications provide only limited support for such an undo history, with a\n",
    "fixed-capacity stack. When push is invoked with the stack at full capacity,\n",
    "rather than throwing a Full exception (as described in Exercise C-6.16),\n",
    "a more typical semantic is to accept the pushed element at the top while\n",
    "“leaking” the oldest element from the bottom of the stack to make room.\n",
    "Give an implementation of such a LeakyStack abstraction, using a circular\n",
    "array with appropriate storage capacity. This class should have a public\n",
    "interface similar to the bounded-capacity stack in Exercise C-6.16, but\n",
    "with the desired leaky semantics when full."
   ]
  },
  {
   "cell_type": "markdown",
   "metadata": {},
   "source": [
    "When a share of common stock of some company is sold, the capital\n",
    "gain (or, sometimes, loss) is the difference between the share’s selling\n",
    "price and the price originally paid to buy it. This rule is easy to understand for a single share, but if we sell multiple shares of stock bought\n",
    "over a long period of time, then we must identify the shares actually being sold. A standard accounting principle for identifying which shares of\n",
    "a stock were sold in such a case is to use a FIFO protocol—the shares\n",
    "sold are the ones that have been held the longest (indeed, this is the default method built into several personal finance software packages). For\n",
    "example, suppose we buy 100 shares at $20 each on day 1, 20 shares at\n",
    "$24 on day 2, 200 shares at $36 on day 3, and then sell 150 shares on day\n",
    "4 at $30 each. Then applying the FIFO protocol means that of the 150\n",
    "shares sold, 100 were bought on day 1, 20 were bought on day 2, and 30\n",
    "were bought on day 3. The capital gain in this case would therefore be\n",
    "100 · 10+20 · 6+30 ·(−6), or $940. Write a program that takes as input\n",
    "a sequence of transactions of the form “buy x share(s) at y each”\n",
    "or “sell x share(s) at y each,” assuming that the transactions occur on consecutive days and the values x and y are integers. Given this\n",
    "input sequence, the output should be the total capital gain (or loss) for the\n",
    "entire sequence, using the FIFO protocol to identify shares."
   ]
  },
  {
   "cell_type": "markdown",
   "metadata": {},
   "source": [
    "Design an ADT for a two-color, double-stack ADT that consists of two\n",
    "stacks—one “red” and one “blue”—and has as its operations color-coded\n",
    "versions of the regular stack ADT operations. For example, this ADT\n",
    "should support both a red push operation and a blue push operation. Give\n",
    "an efficient implementation of this ADT using a single array whose capacity is set at some value N that is assumed to always be larger than the\n",
    "sizes of the red and blue stacks combined."
   ]
  }
 ],
 "metadata": {
  "kernelspec": {
   "display_name": "Python 3",
   "language": "python",
   "name": "python3"
  },
  "language_info": {
   "codemirror_mode": {
    "name": "ipython",
    "version": 3
   },
   "file_extension": ".py",
   "mimetype": "text/x-python",
   "name": "python",
   "nbconvert_exporter": "python",
   "pygments_lexer": "ipython3",
   "version": "3.12.1"
  }
 },
 "nbformat": 4,
 "nbformat_minor": 2
}
