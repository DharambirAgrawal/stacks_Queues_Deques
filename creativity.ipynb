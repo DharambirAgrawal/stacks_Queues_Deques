{
 "cells": [
  {
   "cell_type": "markdown",
   "metadata": {},
   "source": [
    "Suppose Alice has picked three distinct integers and placed them into a stack S in random order. Write a short, straight-line piece of pseudo-code\n",
    "(with no loops or recursion) that uses only one comparison and only one variable x, yet that results in variable x storing the largest of Alice’s three integers with probability 2/3. Argue why your method is correct."
   ]
  },
  {
   "cell_type": "code",
   "execution_count": null,
   "metadata": {},
   "outputs": [],
   "source": [
    "# One comparison\n",
    "# one variable x\n",
    "\n",
    "S=[3,5,6]\n",
    "\n",
    "if S[-1]>S[-2]:\n",
    "    x=S[-1]\n",
    "else:\n",
    "    x=S[-3]"
   ]
  },
  {
   "cell_type": "markdown",
   "metadata": {},
   "source": [
    "Modify the ArrayStack implementation so that the stack’s capacity is limited to maxlen elements, where maxlen is an optional parameter to the constructor (that defaults to None). If push is called when the stack is at full capacity, throw a Full exception (defined similarly to Empty)."
   ]
  },
  {
   "cell_type": "code",
   "execution_count": null,
   "metadata": {},
   "outputs": [],
   "source": [
    "class Empty(Exception):\n",
    "    \"\"\"Error attempting to access an element from an empty container.\"\"\"\n",
    "    pass\n",
    "\n",
    "class Full(Exception):\n",
    "    \"\"\"Error attempting to add an element to a full container.\"\"\"\n",
    "    pass\n",
    "\n",
    "class ArrayStack:\n",
    "    \"\"\"LIFO Stack implementation using a Python list as underlying storage.\"\"\"\n",
    "\n",
    "    def __init__(self, maxlen=None):\n",
    "        \"\"\"Create an empty stack with an optional max capacity (maxlen).\"\"\"\n",
    "        self._data = []           \n",
    "        self._maxlen = maxlen      \n",
    "\n",
    "    def __len__(self):\n",
    "        \"\"\"Return the number of elements in the stack.\"\"\"\n",
    "        return len(self._data)\n",
    "\n",
    "    def is_empty(self):\n",
    "        \"\"\"Return True if the stack is empty.\"\"\"\n",
    "        return len(self._data) == 0\n",
    "\n",
    "    def push(self, e):\n",
    "        \"\"\"Add element e to the top of the stack.\n",
    "        \n",
    "        Raise Full exception if stack is at maximum capacity.\n",
    "        \"\"\"\n",
    "        if self._maxlen is not None and len(self._data) >= self._maxlen:\n",
    "            raise Full('Stack is at full capacity')\n",
    "        self._data.append(e)\n",
    "\n",
    "    def top(self):\n",
    "        \"\"\"Return (but do not remove) the element at the top of the stack.\n",
    "        \n",
    "        Raise Empty exception if the stack is empty.\n",
    "        \"\"\"\n",
    "        if self.is_empty():\n",
    "            raise Empty('Stack is empty')\n",
    "        return self._data[-1]\n",
    "\n",
    "    def pop(self):\n",
    "        \"\"\"Remove and return the element from the top of the stack (i.e., LIFO).\n",
    "        \n",
    "        Raise Empty exception if the stack is empty.\n",
    "        \"\"\"\n",
    "        if self.is_empty():\n",
    "            raise Empty('Stack is empty')\n",
    "        return self._data.pop()"
   ]
  },
  {
   "cell_type": "markdown",
   "metadata": {},
   "source": [
    "In the previous exercise, we assume that the underlying list is initially empty. Redo that exercise, this time preallocating an underlying list with\n",
    "length equal to the stack’s maximum capacity."
   ]
  },
  {
   "cell_type": "code",
   "execution_count": 1,
   "metadata": {},
   "outputs": [],
   "source": [
    "class Empty(Exception):\n",
    "    \"\"\"Error attempting to access an element from an empty container.\"\"\"\n",
    "    pass\n",
    "\n",
    "class Full(Exception):\n",
    "    \"\"\"Error attempting to add an element to a full container.\"\"\"\n",
    "    pass\n",
    "\n",
    "class ArrayStack:\n",
    "    \"\"\"LIFO Stack implementation using a Python list as underlying storage.\"\"\"\n",
    "\n",
    "    def __init__(self, maxlen=None):\n",
    "        \"\"\"Create an empty stack with an optional max capacity (maxlen).\"\"\"\n",
    "        self._maxlen = maxlen      \n",
    "        self._data = [None] * self._maxlen if maxlen else []\n",
    "        self._len=0           \n",
    "\n",
    "    def __len__(self):\n",
    "        \"\"\"Return the number of elements in the stack.\"\"\"\n",
    "        return self._len\n",
    "\n",
    "    def is_empty(self):\n",
    "        \"\"\"Return True if the stack is empty.\"\"\"\n",
    "        return self._len == 0\n",
    "\n",
    "    def push(self, e):\n",
    "        \"\"\"Add element e to the top of the stack.\n",
    "        \n",
    "        Raise Full exception if stack is at maximum capacity.\n",
    "        \"\"\"\n",
    "        if self._maxlen is not None and self._len >= self._maxlen:\n",
    "            raise Full('Stack is at full capacity')\n",
    "        \n",
    "        if self._maxlen is None:\n",
    "            self._data.append(e)\n",
    "        else:\n",
    "            self._data[self._len]=e\n",
    "        self._len+=1\n",
    "\n",
    "    def top(self):\n",
    "        \"\"\"Return (but do not remove) the element at the top of the stack.\n",
    "        \n",
    "        Raise Empty exception if the stack is empty.\n",
    "        \"\"\"\n",
    "        if self.is_empty():\n",
    "            raise Empty('Stack is empty')\n",
    "        return self._data[self._len-1]\n",
    "\n",
    "    def pop(self):\n",
    "        \"\"\"Remove and return the element from the top of the stack (i.e., LIFO).\n",
    "        \n",
    "        Raise Empty exception if the stack is empty.\n",
    "        \"\"\"\n",
    "        if self.is_empty():\n",
    "            raise Empty('Stack is empty')\n",
    "        \n",
    "        top_element=self._data[self._len-1]\n",
    "        self._data[self._len-1] = None\n",
    "        self._len -=1\n",
    "        return top_element"
   ]
  },
  {
   "cell_type": "markdown",
   "metadata": {},
   "source": [
    "Show how to use the transfer function, described in Exercise R-6.3, and two temporary stacks, to replace the contents of a given stack S with those\n",
    "same elements, but in reversed order."
   ]
  },
  {
   "cell_type": "code",
   "execution_count": 4,
   "metadata": {},
   "outputs": [
    {
     "data": {
      "text/plain": [
       "[100, 99, 5, 4, 3, 2, 1]"
      ]
     },
     "execution_count": 4,
     "metadata": {},
     "output_type": "execute_result"
    }
   ],
   "source": [
    "#Exercise R-6.3\n",
    "def transfer(S,T):\n",
    "    while S:\n",
    "        T.append(S.pop())\n",
    "    return T\n",
    "\n",
    "S=[1,2,3,4,5]\n",
    "T=[100,99]\n",
    "\n",
    "transfer(S,T)\n",
    "\n"
   ]
  },
  {
   "cell_type": "code",
   "execution_count": 10,
   "metadata": {},
   "outputs": [
    {
     "data": {
      "text/plain": [
       "[1, 2, 3, 4, 5, 99, 100]"
      ]
     },
     "execution_count": 10,
     "metadata": {},
     "output_type": "execute_result"
    }
   ],
   "source": [
    "#Exercise R-6.3\n",
    "def transfer(S,T):\n",
    "    while S:\n",
    "        T.append(S.pop())\n",
    "    return T\n",
    "\n",
    "S=[1,2,3,4,5]\n",
    "T=[100,99]\n",
    "\n",
    "def reverse_num():\n",
    "    a=transfer(S,T)\n",
    "    t=[]\n",
    "    while a:\n",
    "        t.append(a.pop())\n",
    "    return t\n",
    "\n",
    "reverse_num()"
   ]
  },
  {
   "cell_type": "markdown",
   "metadata": {},
   "source": [
    "In Code Fragment 6.5 we assume that opening tags in HTML have form <name>, as with <li>. More generally, HTML allows optional attributes to be expressed as part of an opening tag. The general form used is <name attribute1=\"value1\" attribute2=\"value2\">; for example, a table can be given a border and additional padding by using an opening tag of <table border=\"3\" cellpadding=\"5\">. Modify Code Fragment 6.5 so that it can properly match tags, even when an opening tag may include one or more such attributes."
   ]
  },
  {
   "cell_type": "code",
   "execution_count": null,
   "metadata": {},
   "outputs": [
    {
     "data": {
      "text/plain": [
       "True"
      ]
     },
     "execution_count": 43,
     "metadata": {},
     "output_type": "execute_result"
    }
   ],
   "source": [
    "#code fragment 6.5\n",
    "def is_match_html(raw):\n",
    "    \"\"\"Return True if properly match; False Otherwise\"\"\"\n",
    "    S=ArrayStack()\n",
    "    j=raw.find('<')\n",
    "    while j!=-1:\n",
    "        k=raw.find(\">\",j+1)\n",
    "        if k== -1:\n",
    "            return False\n",
    "        tag=raw[j+1:k]\n",
    "        if not tag.startswith('/'):\n",
    "            S.push(tag)\n",
    "        else:\n",
    "            if S.is_empty():\n",
    "                return False\n",
    "            if tag[1:] != S.pop():\n",
    "                return False\n",
    "        j=raw.find('<',k+1)\n",
    "    return S.is_empty()\n",
    "\n",
    "\n",
    "html=\"<table><name>hello</name></table>\"\n",
    "is_match_html(html)\n"
   ]
  },
  {
   "cell_type": "code",
   "execution_count": null,
   "metadata": {},
   "outputs": [
    {
     "name": "stdout",
     "output_type": "stream",
     "text": [
      "title\n",
      "head\n",
      "ol\n",
      "li\n",
      "li\n"
     ]
    },
    {
     "data": {
      "text/plain": [
       "False"
      ]
     },
     "execution_count": 58,
     "metadata": {},
     "output_type": "execute_result"
    }
   ],
   "source": [
    "def is_match_html(raw):\n",
    "    \"\"\"Return True if properly match; False Otherwise\"\"\"\n",
    "    S=[]\n",
    "    j=raw.find('<')\n",
    "    while j!=-1:\n",
    "      \n",
    "        k=raw.find(\">\",j+1)\n",
    "        if k== -1:\n",
    "            return False\n",
    "        tag=raw[j+1:k]\n",
    "        if not tag.startswith('/'):\n",
    "            S.append(tag.split(' ')[0])\n",
    "        else:\n",
    "            if len(S)==0:\n",
    "                return False\n",
    "            if tag[1:] == S[-1]:\n",
    "                print(tag[1:])\n",
    "                S.pop()\n",
    "        j=raw.find('<',k+1)\n",
    "    return len(S)==0\n",
    "\n",
    "\n",
    "html=\"\"\"\n",
    "<html lang=\"en\">\n",
    "<head>\n",
    "    <title>Document</title>\n",
    "</head>\n",
    "<body>\n",
    "    dfdfgdfg\n",
    "    <table>\n",
    "        dgdfg\n",
    "        <li>\n",
    "            <ol>lsdfndfjg</ol>\n",
    "            <li>\n",
    "                <li>dfgdf</li>\n",
    "            </li>\n",
    "            <ol>  #here is mistake\n",
    "        </li>\n",
    "        xgdfgdfg\n",
    "    </table>\n",
    "</body>\n",
    "</html>\n",
    "\"\"\"\n",
    "is_match_html(html)\n"
   ]
  },
  {
   "cell_type": "markdown",
   "metadata": {},
   "source": [
    "Describe a nonrecursive algorithm for enumerating all permutations of the numbers {1,2,...,n} using an explicit stack."
   ]
  },
  {
   "cell_type": "code",
   "execution_count": null,
   "metadata": {},
   "outputs": [],
   "source": [
    "def generate_permutations(n):\n",
    "    stack = [([], list(range(1, n + 1)))]\n",
    "    results = []\n",
    "\n",
    "    while stack:\n",
    "        perm, elements = stack.pop()  # Get the current permutation and remaining elements\n",
    "        print(perm,elements)\n",
    "        if len(perm) == n:\n",
    "            results.append(perm)  # Full permutation reached, add it to results\n",
    "        else:\n",
    "            # Add new frames for each possible next element in the permutation\n",
    "            for i in range(len(elements)):\n",
    "                new_perm = perm + [elements[i]]  # Add chosen element to the permutation\n",
    "                new_elements = elements[:i] + elements[i + 1:]  # Remove chosen element\n",
    "                stack.append((new_perm, new_elements))  # Push new frame to stack\n",
    "        print(stack)\n",
    "\n",
    "    return results\n",
    "\n",
    "# Example usage\n",
    "n = 3\n",
    "permutations = generate_permutations(n)\n",
    "print(permutations)\n"
   ]
  },
  {
   "cell_type": "markdown",
   "metadata": {},
   "source": [
    "Show how to use a stack S and a queue Q to generate all possible subsets of an n-element set T nonrecursively."
   ]
  },
  {
   "cell_type": "code",
   "execution_count": null,
   "metadata": {},
   "outputs": [],
   "source": []
  },
  {
   "cell_type": "markdown",
   "metadata": {},
   "source": [
    "Suppose you have three nonempty stacks R, S, and T. Describe a sequence of operations that results in S storing all elements originally in T below all of S’s original elements, with both sets of those elements in their original order. The final configuration for R should be the same as its original configuration. For example, if R = [1,2,3], S = [4,5], and T = [6,7,8,9], the final configuration should have R = [1,2,3] and S = [6,7,8,9,4,5]."
   ]
  },
  {
   "cell_type": "code",
   "execution_count": null,
   "metadata": {},
   "outputs": [
    {
     "name": "stdout",
     "output_type": "stream",
     "text": [
      "([1, 2, 3], [6, 7, 8, 9, 4, 5])\n"
     ]
    }
   ],
   "source": [
    "def algorithm(R,T,S):\n",
    "    l=len(R)\n",
    "    while S:\n",
    "        R.append(S.pop())\n",
    "    while T:\n",
    "        R.append(T.pop())\n",
    "\n",
    "    for i in range(l,len(R)):\n",
    "        S.append(R.pop())\n",
    "    return R,S\n",
    "    \n",
    "R = [1,2,3]\n",
    "S = [4,5]\n",
    "T = [6,7,8,9]    \n",
    "print(algorithm(R,T,S))\n",
    "\n",
    "#R=[1,2,3]\n",
    "#S=[6,7,8,9,4,5]"
   ]
  },
  {
   "cell_type": "code",
   "execution_count": null,
   "metadata": {},
   "outputs": [
    {
     "name": "stdout",
     "output_type": "stream",
     "text": [
      "([1, 2, 3], [6, 7, 8, 9, 4, 5])\n"
     ]
    }
   ],
   "source": [
    "def algorithm(R,T,S):\n",
    "    l=len(R)\n",
    "    while S:\n",
    "        R.append(S.pop())\n",
    "    while T:\n",
    "        R.append(T.pop())\n",
    "\n",
    "    for i in range(l,len(R)):\n",
    "        S.append(R.pop())\n",
    "    return R,S\n",
    "    \n",
    "R = [1,2,3]\n",
    "S = [4,5]\n",
    "T = [6,7,8,9]    \n",
    "print(algorithm(R,T,S))\n",
    "\n",
    "#R=[1,2,3]\n",
    "#S=[6,7,8,9,4,5]"
   ]
  },
  {
   "cell_type": "markdown",
   "metadata": {},
   "source": [
    "Describe how to implement the stack ADT using a single queue as an instance variable, and only constant additional local memory within the method bodies. What is the running time of the push(), pop(), and top() methods for your design?"
   ]
  },
  {
   "cell_type": "code",
   "execution_count": null,
   "metadata": {},
   "outputs": [],
   "source": [
    "from collections import deque\n",
    "\n",
    "class StackUsingSingleQueue:\n",
    "    def __init__(self):\n",
    "        self.queue = deque()\n",
    "\n",
    "    def push(self, x):\n",
    "        self.queue.append(x)\n",
    "        for _ in range(len(self.queue) - 1):\n",
    "            # Move the front element to the back of the queue\n",
    "            self.queue.append(self.queue.popleft())\n",
    "\n",
    "    def pop(self):\n",
    "        # Pop the front element, which is the top of the stack\n",
    "        if not self.is_empty():\n",
    "            return self.queue.popleft()\n",
    "        else:\n",
    "            raise IndexError(\"pop from empty stack\")\n",
    "\n",
    "    def top(self):\n",
    "        # Return the front element, which is the top of the stack\n",
    "        if not self.is_empty():\n",
    "            return self.queue[0]\n",
    "        else:\n",
    "            raise IndexError(\"top from empty stack\")\n",
    "\n",
    "    def is_empty(self):\n",
    "        # Check if the stack is empty\n",
    "        return len(self.queue) == 0\n"
   ]
  },
  {
   "cell_type": "markdown",
   "metadata": {},
   "source": [
    "Describe how to implement the queue ADT using two stacks as instance variables, such that all queue operations execute in amortized O(1) time. Give a formal proof of the amortized bound."
   ]
  },
  {
   "cell_type": "code",
   "execution_count": 6,
   "metadata": {},
   "outputs": [],
   "source": [
    "class QueueUsingTwoStacks:\n",
    "    def __init__(self):\n",
    "        self.stack1 = []  # For enqueue operations\n",
    "        self.stack2 = []  # For dequeue operations\n",
    "\n",
    "    def enqueue(self, x):\n",
    "        self.stack1.append(x)\n",
    "\n",
    "    def dequeue(self):\n",
    "        if self.is_empty():\n",
    "            raise IndexError(\"dequeue from empty queue\")\n",
    "\n",
    "        # If stack2 is empty, transfer all elements from stack1 to stack2\n",
    "        if not self.stack2:\n",
    "            while self.stack1:\n",
    "                self.stack2.append(self.stack1.pop())\n",
    "\n",
    "        # Pop the front element from stack2\n",
    "        return self.stack2.pop()\n",
    "\n",
    "    def front(self):\n",
    "        if self.is_empty():\n",
    "            raise IndexError(\"front from empty queue\")\n",
    "\n",
    "        # If stack2 is empty, transfer all elements from stack1 to stack2\n",
    "        if not self.stack2:\n",
    "            while self.stack1:\n",
    "                self.stack2.append(self.stack1.pop())\n",
    "\n",
    "        # Return the front element from stack2 without removing it\n",
    "        return self.stack2[-1]\n",
    "\n",
    "    def is_empty(self):\n",
    "        # The queue is empty if both stacks are empty\n",
    "        return len(self.stack1) == 0 and len(self.stack2) == 0\n"
   ]
  },
  {
   "cell_type": "markdown",
   "metadata": {},
   "source": [
    "Describe how to implement the double-ended queue ADT using two stacks as instance variables. What are the running times of the methods?"
   ]
  },
  {
   "cell_type": "markdown",
   "metadata": {},
   "source": [
    "Suppose you have a stack S containing n elements and a queue Q that is initially empty. Describe how you can use Q to scan S to see if it contains a certain element x, with the additional constraint that your algorithm must return the elements back to S in their original order. You may only use S,\n",
    "Q, and a constant number of other variables."
   ]
  },
  {
   "cell_type": "markdown",
   "metadata": {},
   "source": [
    "Modify the ArrayQueue implementation so that the queue’s capacity is limited to maxlen elements, where maxlen is an optional parameter to the constructor (that defaults to None). If enqueue is called when the queue is at full capacity, throw a Full exception (defined similarly to Empty)."
   ]
  },
  {
   "cell_type": "markdown",
   "metadata": {},
   "source": [
    "In certain applications of the queue ADT, it is common to repeatedly dequeue an element, process it in some way, and then immediately enqueue the same element. Modify the ArrayQueue implementation to include a rotate( ) method that has semantics identical to the combination, Q.enqueue(Q.dequeue( )). However, your implementation should be more efficient than making two separate calls (for example, because there is no need to modify size)."
   ]
  },
  {
   "cell_type": "markdown",
   "metadata": {},
   "source": [
    "Alice has two queues, Q and R, which can store integers. Bob gives Alice 50 odd integers and 50 even integers and insists that she store all 100\n",
    "integers in Q and R. They then play a game where Bob picks Q or R at random and then applies the round-robin scheduler, described in the chapter, to the chosen queue a random number of times. If the last number to be processed at the end of this game was odd, Bob wins. Otherwise, Alice wins. How can Alice allocate integers to queues to optimize her\n",
    "chances of winning? What is her chance of winning?"
   ]
  },
  {
   "cell_type": "markdown",
   "metadata": {},
   "source": [
    "Suppose Bob has four cows that he wants to take across a bridge, but only one yoke, which can hold up to two cows, side by side, tied to the yoke.\n",
    "The yoke is too heavy for him to carry across the bridge, but he can tie (and untie) cows to it in no time at all. Of his four cows, Mazie can cross\n",
    "the bridge in 2 minutes, Daisy can cross it in 4 minutes, Crazy can cross it in 10 minutes, and Lazy can cross it in 20 minutes. Of course, when two cows are tied to the yoke, they must go at the speed of the slower cow. Describe how Bob can get all his cows across the bridge in 34 minutes."
   ]
  }
 ],
 "metadata": {
  "kernelspec": {
   "display_name": "Python 3",
   "language": "python",
   "name": "python3"
  },
  "language_info": {
   "codemirror_mode": {
    "name": "ipython",
    "version": 3
   },
   "file_extension": ".py",
   "mimetype": "text/x-python",
   "name": "python",
   "nbconvert_exporter": "python",
   "pygments_lexer": "ipython3",
   "version": "3.12.1"
  }
 },
 "nbformat": 4,
 "nbformat_minor": 2
}
